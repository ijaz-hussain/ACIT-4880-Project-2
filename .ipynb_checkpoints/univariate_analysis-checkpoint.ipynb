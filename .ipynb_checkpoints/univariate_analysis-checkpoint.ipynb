{
 "cells": [
  {
   "cell_type": "markdown",
   "id": "c0bccbd6",
   "metadata": {},
   "source": [
    "Find the 95% confidence t-interval for the mean number of patient show"
   ]
  },
  {
   "cell_type": "code",
   "execution_count": 1,
   "id": "a7cb6f54",
   "metadata": {},
   "outputs": [],
   "source": [
    "import numpy as np\n",
    "import pandas as pd\n",
    "import matplotlib.pyplot as plt\n",
    "from scipy import stats\n",
    "from math import *"
   ]
  },
  {
   "cell_type": "code",
   "execution_count": 2,
   "id": "3765a9eb",
   "metadata": {},
   "outputs": [],
   "source": [
    "df = pd.read_csv('no_shows_cleaned.csv')"
   ]
  },
  {
   "cell_type": "code",
   "execution_count": 4,
   "id": "fb05183d",
   "metadata": {},
   "outputs": [
    {
     "name": "stdout",
     "output_type": "stream",
     "text": [
      "age             34.329224\n",
      "scholarship      0.115390\n",
      "hypertension     0.169095\n",
      "diabetes         0.064105\n",
      "alcoholism       0.029811\n",
      "handicap         0.020308\n",
      "sms_received     0.438427\n",
      "no_show          1.000000\n",
      "dtype: float64 age             21.966078\n",
      "scholarship      0.319499\n",
      "hypertension     0.374844\n",
      "diabetes         0.244946\n",
      "alcoholism       0.170070\n",
      "handicap         0.156711\n",
      "sms_received     0.496205\n",
      "no_show          0.000000\n",
      "dtype: float64 22307\n"
     ]
    },
    {
     "name": "stderr",
     "output_type": "stream",
     "text": [
      "/var/folders/dw/6lws0fts53q37cx16gcsjh_00000gn/T/ipykernel_3225/3914089619.py:2: FutureWarning: Dropping of nuisance columns in DataFrame reductions (with 'numeric_only=None') is deprecated; in a future version this will raise TypeError.  Select only valid columns before calling the reduction.\n",
      "  no_shows_mean = no_shows.mean()\n",
      "/var/folders/dw/6lws0fts53q37cx16gcsjh_00000gn/T/ipykernel_3225/3914089619.py:3: FutureWarning: Dropping of nuisance columns in DataFrame reductions (with 'numeric_only=None') is deprecated; in a future version this will raise TypeError.  Select only valid columns before calling the reduction.\n",
      "  no_shows_std = no_shows.std()\n"
     ]
    }
   ],
   "source": [
    "no_shows = df.query('no_show == 1')\n",
    "no_shows_mean = no_shows.mean()\n",
    "no_shows_std = no_shows.std()\n",
    "no_shows_count = len(no_shows)\n",
    "\n",
    "print(no_shows_mean, no_shows_std, no_shows_count)"
   ]
  },
  {
   "cell_type": "code",
   "execution_count": 5,
   "id": "c6fcc04c",
   "metadata": {},
   "outputs": [
    {
     "ename": "NameError",
     "evalue": "name 'average_height_mean' is not defined",
     "output_type": "error",
     "traceback": [
      "\u001b[0;31m---------------------------------------------------------------------------\u001b[0m",
      "\u001b[0;31mNameError\u001b[0m                                 Traceback (most recent call last)",
      "\u001b[0;32m/var/folders/dw/6lws0fts53q37cx16gcsjh_00000gn/T/ipykernel_3225/2504208598.py\u001b[0m in \u001b[0;36m<module>\u001b[0;34m\u001b[0m\n\u001b[1;32m      1\u001b[0m \u001b[0mt_value\u001b[0m \u001b[0;34m=\u001b[0m \u001b[0mstats\u001b[0m\u001b[0;34m.\u001b[0m\u001b[0mt\u001b[0m\u001b[0;34m.\u001b[0m\u001b[0mppf\u001b[0m\u001b[0;34m(\u001b[0m\u001b[0;36m0.99\u001b[0m\u001b[0;34m,\u001b[0m \u001b[0;36m198\u001b[0m\u001b[0;34m)\u001b[0m\u001b[0;34m\u001b[0m\u001b[0;34m\u001b[0m\u001b[0m\n\u001b[0;32m----> 2\u001b[0;31m \u001b[0mconf_interval_from\u001b[0m \u001b[0;34m=\u001b[0m \u001b[0maverage_height_mean\u001b[0m \u001b[0;34m-\u001b[0m \u001b[0mt_value\u001b[0m \u001b[0;34m*\u001b[0m \u001b[0;34m(\u001b[0m\u001b[0maverage_height_std\u001b[0m \u001b[0;34m/\u001b[0m \u001b[0msqrt\u001b[0m\u001b[0;34m(\u001b[0m\u001b[0maverage_height_count\u001b[0m\u001b[0;34m)\u001b[0m\u001b[0;34m)\u001b[0m\u001b[0;34m\u001b[0m\u001b[0;34m\u001b[0m\u001b[0m\n\u001b[0m\u001b[1;32m      3\u001b[0m \u001b[0mconf_interval_to\u001b[0m \u001b[0;34m=\u001b[0m \u001b[0maverage_height_mean\u001b[0m \u001b[0;34m+\u001b[0m \u001b[0mt_value\u001b[0m \u001b[0;34m*\u001b[0m \u001b[0;34m(\u001b[0m\u001b[0maverage_height_std\u001b[0m \u001b[0;34m/\u001b[0m \u001b[0msqrt\u001b[0m\u001b[0;34m(\u001b[0m\u001b[0maverage_height_count\u001b[0m\u001b[0;34m)\u001b[0m\u001b[0;34m)\u001b[0m\u001b[0;34m\u001b[0m\u001b[0;34m\u001b[0m\u001b[0m\n\u001b[1;32m      4\u001b[0m \u001b[0mprint\u001b[0m\u001b[0;34m(\u001b[0m\u001b[0mconf_interval_from\u001b[0m\u001b[0;34m,\u001b[0m \u001b[0mconf_interval_to\u001b[0m\u001b[0;34m)\u001b[0m\u001b[0;34m\u001b[0m\u001b[0;34m\u001b[0m\u001b[0m\n",
      "\u001b[0;31mNameError\u001b[0m: name 'average_height_mean' is not defined"
     ]
    }
   ],
   "source": [
    "t_value = stats.t.ppf(0.99, 198)\n",
    "conf_interval_from = average_height_mean - t_value * (average_height_std / sqrt(average_height_count))\n",
    "conf_interval_to = average_height_mean + t_value * (average_height_std / sqrt(average_height_count))\n",
    "print(conf_interval_from, conf_interval_to)"
   ]
  },
  {
   "cell_type": "code",
   "execution_count": null,
   "id": "691cd23f",
   "metadata": {},
   "outputs": [],
   "source": []
  }
 ],
 "metadata": {
  "kernelspec": {
   "display_name": "Python 3 (ipykernel)",
   "language": "python",
   "name": "python3"
  },
  "language_info": {
   "codemirror_mode": {
    "name": "ipython",
    "version": 3
   },
   "file_extension": ".py",
   "mimetype": "text/x-python",
   "name": "python",
   "nbconvert_exporter": "python",
   "pygments_lexer": "ipython3",
   "version": "3.9.7"
  }
 },
 "nbformat": 4,
 "nbformat_minor": 5
}
