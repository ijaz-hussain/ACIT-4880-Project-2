{
 "cells": [
  {
   "cell_type": "markdown",
   "id": "c0bccbd6",
   "metadata": {},
   "source": [
    "Find the 95% confidence t-interval for the mean number of patient shows"
   ]
  },
  {
   "cell_type": "code",
   "execution_count": 6,
   "id": "a7cb6f54",
   "metadata": {},
   "outputs": [],
   "source": [
    "import numpy as np\n",
    "import pandas as pd\n",
    "import matplotlib.pyplot as plt\n",
    "from scipy import stats\n",
    "from math import *"
   ]
  },
  {
   "cell_type": "code",
   "execution_count": 7,
   "id": "3765a9eb",
   "metadata": {},
   "outputs": [],
   "source": [
    "df = pd.read_csv('no_shows_cleaned.csv')"
   ]
  },
  {
   "cell_type": "markdown",
   "id": "b816bc9c",
   "metadata": {},
   "source": [
    "Find the 95% confidence t-interval for the mean age in the no_shows_cleaned.csv dataset"
   ]
  },
  {
   "cell_type": "code",
   "execution_count": 9,
   "id": "fb05183d",
   "metadata": {},
   "outputs": [
    {
     "name": "stdout",
     "output_type": "stream",
     "text": [
      "37.09459557293081 23.109589817485332 110502\n"
     ]
    }
   ],
   "source": [
    "age = df['age']\n",
    "age_mean = age.mean()\n",
    "age_std = age.std()\n",
    "age_count = len(age)\n",
    "\n",
    "print(age_mean, age_std, age_count)"
   ]
  },
  {
   "cell_type": "code",
   "execution_count": 10,
   "id": "c6fcc04c",
   "metadata": {},
   "outputs": [
    {
     "name": "stdout",
     "output_type": "stream",
     "text": [
      "36.932866489205296 37.25632465665632\n"
     ]
    }
   ],
   "source": [
    "t_value = stats.t.ppf(0.99, 110501)\n",
    "conf_interval_from = age_mean - t_value * (age_std / sqrt(age_count))\n",
    "conf_interval_to = age_mean + t_value * (age_std / sqrt(age_count))\n",
    "print(conf_interval_from, conf_interval_to)"
   ]
  },
  {
   "cell_type": "markdown",
   "id": "a7e65cdc",
   "metadata": {},
   "source": [
    "Find the 95% confidence t-interval for the population mean age for those patients who have alcoholism in the no_shows_cleaned.csv dataset"
   ]
  },
  {
   "cell_type": "code",
   "execution_count": 14,
   "id": "9be5a80e",
   "metadata": {},
   "outputs": [
    {
     "name": "stdout",
     "output_type": "stream",
     "text": [
      "49.861810551558754 12.348479498558383 3336\n"
     ]
    }
   ],
   "source": [
    "alcoholism = df[(df['alcoholism'] == 1)]\n",
    "sub_df = alcoholism['age']\n",
    "sub_df_mean = sub_df.mean()\n",
    "sub_df_std = sub_df.std()\n",
    "sub_df_count = len(sub_df)\n",
    "\n",
    "print(sub_df_mean, sub_df_std, sub_df_count)"
   ]
  },
  {
   "cell_type": "code",
   "execution_count": 15,
   "id": "127e6e4c",
   "metadata": {},
   "outputs": [
    {
     "name": "stdout",
     "output_type": "stream",
     "text": [
      "49.442625101061495 50.280996002056014\n"
     ]
    }
   ],
   "source": [
    "t_value = stats.t.ppf(0.975, 3335)\n",
    "conf_interval_from = sub_df_mean - t_value * (sub_df_std / sqrt(sub_df_count))\n",
    "conf_interval_to = sub_df_mean + t_value * (sub_df_std / sqrt(sub_df_count))\n",
    "print(conf_interval_from, conf_interval_to)"
   ]
  },
  {
   "cell_type": "code",
   "execution_count": null,
   "id": "7b177025",
   "metadata": {},
   "outputs": [],
   "source": []
  }
 ],
 "metadata": {
  "kernelspec": {
   "display_name": "Python 3 (ipykernel)",
   "language": "python",
   "name": "python3"
  },
  "language_info": {
   "codemirror_mode": {
    "name": "ipython",
    "version": 3
   },
   "file_extension": ".py",
   "mimetype": "text/x-python",
   "name": "python",
   "nbconvert_exporter": "python",
   "pygments_lexer": "ipython3",
   "version": "3.9.7"
  }
 },
 "nbformat": 4,
 "nbformat_minor": 5
}
