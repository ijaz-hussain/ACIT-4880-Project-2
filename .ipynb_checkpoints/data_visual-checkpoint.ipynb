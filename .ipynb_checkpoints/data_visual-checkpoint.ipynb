{
 "cells": [
  {
   "cell_type": "code",
   "execution_count": 24,
   "id": "d72ca0c2",
   "metadata": {},
   "outputs": [],
   "source": [
    "import numpy as np\n",
    "import pandas as pd\n",
    "import matplotlib.pyplot as plt\n",
    "from scipy import stats\n",
    "from math import *\n",
    "import plotly.graph_objs as go\n",
    "import plotly.express as px\n",
    "import seaborn as sns"
   ]
  },
  {
   "cell_type": "code",
   "execution_count": 25,
   "id": "1152f78d",
   "metadata": {},
   "outputs": [],
   "source": [
    "df = pd.read_csv('height_cleaned.csv')"
   ]
  },
  {
   "cell_type": "code",
   "execution_count": 26,
   "id": "ec224c72",
   "metadata": {},
   "outputs": [
    {
     "data": {
      "text/html": [
       "<div>\n",
       "<style scoped>\n",
       "    .dataframe tbody tr th:only-of-type {\n",
       "        vertical-align: middle;\n",
       "    }\n",
       "\n",
       "    .dataframe tbody tr th {\n",
       "        vertical-align: top;\n",
       "    }\n",
       "\n",
       "    .dataframe thead th {\n",
       "        text-align: right;\n",
       "    }\n",
       "</style>\n",
       "<table border=\"1\" class=\"dataframe\">\n",
       "  <thead>\n",
       "    <tr style=\"text-align: right;\">\n",
       "      <th></th>\n",
       "      <th>Country Name</th>\n",
       "      <th>Average height in Cm</th>\n",
       "      <th>Male Height in Cm</th>\n",
       "      <th>Female Height in Cm</th>\n",
       "    </tr>\n",
       "  </thead>\n",
       "  <tbody>\n",
       "    <tr>\n",
       "      <th>0</th>\n",
       "      <td>Netherlands</td>\n",
       "      <td>177.07</td>\n",
       "      <td>183.78</td>\n",
       "      <td>170.36</td>\n",
       "    </tr>\n",
       "    <tr>\n",
       "      <th>1</th>\n",
       "      <td>Montenegro</td>\n",
       "      <td>176.63</td>\n",
       "      <td>183.30</td>\n",
       "      <td>169.96</td>\n",
       "    </tr>\n",
       "    <tr>\n",
       "      <th>2</th>\n",
       "      <td>Estonia</td>\n",
       "      <td>175.72</td>\n",
       "      <td>182.79</td>\n",
       "      <td>168.66</td>\n",
       "    </tr>\n",
       "    <tr>\n",
       "      <th>3</th>\n",
       "      <td>Denmark</td>\n",
       "      <td>175.68</td>\n",
       "      <td>181.89</td>\n",
       "      <td>169.47</td>\n",
       "    </tr>\n",
       "    <tr>\n",
       "      <th>4</th>\n",
       "      <td>Iceland</td>\n",
       "      <td>175.50</td>\n",
       "      <td>182.10</td>\n",
       "      <td>168.91</td>\n",
       "    </tr>\n",
       "    <tr>\n",
       "      <th>5</th>\n",
       "      <td>Latvia</td>\n",
       "      <td>174.99</td>\n",
       "      <td>181.17</td>\n",
       "      <td>168.81</td>\n",
       "    </tr>\n",
       "    <tr>\n",
       "      <th>6</th>\n",
       "      <td>Bosnia and Herzegovina</td>\n",
       "      <td>174.97</td>\n",
       "      <td>182.47</td>\n",
       "      <td>167.47</td>\n",
       "    </tr>\n",
       "    <tr>\n",
       "      <th>7</th>\n",
       "      <td>Czech Republic</td>\n",
       "      <td>174.58</td>\n",
       "      <td>181.19</td>\n",
       "      <td>167.96</td>\n",
       "    </tr>\n",
       "    <tr>\n",
       "      <th>8</th>\n",
       "      <td>Serbia</td>\n",
       "      <td>174.52</td>\n",
       "      <td>180.74</td>\n",
       "      <td>168.29</td>\n",
       "    </tr>\n",
       "    <tr>\n",
       "      <th>9</th>\n",
       "      <td>Lithuania</td>\n",
       "      <td>174.18</td>\n",
       "      <td>180.72</td>\n",
       "      <td>167.63</td>\n",
       "    </tr>\n",
       "  </tbody>\n",
       "</table>\n",
       "</div>"
      ],
      "text/plain": [
       "             Country Name  Average height in Cm  Male Height in Cm  \\\n",
       "0             Netherlands                177.07             183.78   \n",
       "1              Montenegro                176.63             183.30   \n",
       "2                 Estonia                175.72             182.79   \n",
       "3                 Denmark                175.68             181.89   \n",
       "4                 Iceland                175.50             182.10   \n",
       "5                  Latvia                174.99             181.17   \n",
       "6  Bosnia and Herzegovina                174.97             182.47   \n",
       "7          Czech Republic                174.58             181.19   \n",
       "8                  Serbia                174.52             180.74   \n",
       "9               Lithuania                174.18             180.72   \n",
       "\n",
       "   Female Height in Cm  \n",
       "0               170.36  \n",
       "1               169.96  \n",
       "2               168.66  \n",
       "3               169.47  \n",
       "4               168.91  \n",
       "5               168.81  \n",
       "6               167.47  \n",
       "7               167.96  \n",
       "8               168.29  \n",
       "9               167.63  "
      ]
     },
     "execution_count": 26,
     "metadata": {},
     "output_type": "execute_result"
    }
   ],
   "source": [
    "df.head(10)"
   ]
  },
  {
   "cell_type": "code",
   "execution_count": 27,
   "id": "84915cdc",
   "metadata": {},
   "outputs": [
    {
     "data": {
      "text/html": [
       "<div>\n",
       "<style scoped>\n",
       "    .dataframe tbody tr th:only-of-type {\n",
       "        vertical-align: middle;\n",
       "    }\n",
       "\n",
       "    .dataframe tbody tr th {\n",
       "        vertical-align: top;\n",
       "    }\n",
       "\n",
       "    .dataframe thead th {\n",
       "        text-align: right;\n",
       "    }\n",
       "</style>\n",
       "<table border=\"1\" class=\"dataframe\">\n",
       "  <thead>\n",
       "    <tr style=\"text-align: right;\">\n",
       "      <th></th>\n",
       "      <th>Average height in Cm</th>\n",
       "      <th>Male Height in Cm</th>\n",
       "      <th>Female Height in Cm</th>\n",
       "    </tr>\n",
       "  </thead>\n",
       "  <tbody>\n",
       "    <tr>\n",
       "      <th>count</th>\n",
       "      <td>199.000000</td>\n",
       "      <td>199.000000</td>\n",
       "      <td>199.000000</td>\n",
       "    </tr>\n",
       "    <tr>\n",
       "      <th>mean</th>\n",
       "      <td>167.015879</td>\n",
       "      <td>173.089045</td>\n",
       "      <td>160.942915</td>\n",
       "    </tr>\n",
       "    <tr>\n",
       "      <th>std</th>\n",
       "      <td>4.432758</td>\n",
       "      <td>4.949832</td>\n",
       "      <td>4.076377</td>\n",
       "    </tr>\n",
       "    <tr>\n",
       "      <th>min</th>\n",
       "      <td>156.420000</td>\n",
       "      <td>160.130000</td>\n",
       "      <td>150.910000</td>\n",
       "    </tr>\n",
       "    <tr>\n",
       "      <th>25%</th>\n",
       "      <td>163.895000</td>\n",
       "      <td>169.490000</td>\n",
       "      <td>158.240000</td>\n",
       "    </tr>\n",
       "    <tr>\n",
       "      <th>50%</th>\n",
       "      <td>167.000000</td>\n",
       "      <td>173.530000</td>\n",
       "      <td>160.620000</td>\n",
       "    </tr>\n",
       "    <tr>\n",
       "      <th>75%</th>\n",
       "      <td>170.350000</td>\n",
       "      <td>176.510000</td>\n",
       "      <td>163.870000</td>\n",
       "    </tr>\n",
       "    <tr>\n",
       "      <th>max</th>\n",
       "      <td>177.070000</td>\n",
       "      <td>183.780000</td>\n",
       "      <td>170.360000</td>\n",
       "    </tr>\n",
       "  </tbody>\n",
       "</table>\n",
       "</div>"
      ],
      "text/plain": [
       "       Average height in Cm  Male Height in Cm  Female Height in Cm\n",
       "count            199.000000         199.000000           199.000000\n",
       "mean             167.015879         173.089045           160.942915\n",
       "std                4.432758           4.949832             4.076377\n",
       "min              156.420000         160.130000           150.910000\n",
       "25%              163.895000         169.490000           158.240000\n",
       "50%              167.000000         173.530000           160.620000\n",
       "75%              170.350000         176.510000           163.870000\n",
       "max              177.070000         183.780000           170.360000"
      ]
     },
     "execution_count": 27,
     "metadata": {},
     "output_type": "execute_result"
    }
   ],
   "source": [
    "df.describe()"
   ]
  },
  {
   "cell_type": "markdown",
   "id": "8c35578f",
   "metadata": {},
   "source": [
    "Average Height of Males and Females Globally"
   ]
  },
  {
   "cell_type": "code",
   "execution_count": 28,
   "id": "37e358d2",
   "metadata": {},
   "outputs": [
    {
     "name": "stdout",
     "output_type": "stream",
     "text": [
      "Male Average Height (cm): 173.0890452261306\n",
      "Female Average Height (cm): 160.9429145728643\n",
      "\n"
     ]
    }
   ],
   "source": [
    "male_average = df['Male Height in Cm'].mean()\n",
    "female_average = df['Female Height in Cm'].mean()\n",
    "\n",
    "print(f\"Male Average Height (cm): {male_average}\")\n",
    "print(f\"Female Average Height (cm): {female_average}\\n\")"
   ]
  },
  {
   "cell_type": "markdown",
   "id": "86aeea93",
   "metadata": {},
   "source": [
    "Tallest Males and Females Per Country"
   ]
  },
  {
   "cell_type": "code",
   "execution_count": 29,
   "id": "caba5a76",
   "metadata": {},
   "outputs": [
    {
     "name": "stdout",
     "output_type": "stream",
     "text": [
      "Country with Tallest Men (cm): Netherlands at 183.78\n",
      "Country with Tallest Female (cm): Netherlands at 170.36\n"
     ]
    }
   ],
   "source": [
    "#Top Country \n",
    "male_max_value = df['Male Height in Cm'].idxmax()\n",
    "male_max_country = df['Country Name'][male_max_value]\n",
    "\n",
    "female_max_value = df['Female Height in Cm'].idxmax()\n",
    "female_max_country = df['Country Name'][female_max_value]\n",
    "\n",
    "print(f\"Country with Tallest Men (cm): {male_max_country} at {df['Male Height in Cm'].max()}\")\n",
    "print(f\"Country with Tallest Female (cm): {female_max_country} at {df['Female Height in Cm'].max()}\")"
   ]
  },
  {
   "cell_type": "markdown",
   "id": "b98d3f41",
   "metadata": {},
   "source": [
    "Top 5 Countries with Tallest Males"
   ]
  },
  {
   "cell_type": "code",
   "execution_count": 34,
   "id": "b89ccd15",
   "metadata": {},
   "outputs": [
    {
     "data": {
      "text/plain": [
       "Text(0.5, 0, 'Country Name')"
      ]
     },
     "execution_count": 34,
     "metadata": {},
     "output_type": "execute_result"
    },
    {
     "data": {
      "image/png": "[encoded data removed]",
      "text/plain": [
       "<Figure size 720x360 with 1 Axes>"
      ]
     },
     "metadata": {
      "needs_background": "light"
     },
     "output_type": "display_data"
    }
   ],
   "source": [
    "#Top 5 Countries with Tallest Males\n",
    "plt.figure(figsize=(10,5))\n",
    "\n",
    "top5_male = df.sort_values('Male Height in Cm', ascending = False).head()\n",
    "plt.bar(x = 'Country Name', height='Male Height in Cm', data = top5_male)\n",
    "\n",
    "plt.ylim(ymin=165,ymax=185)\n",
    "plt.ylabel('Male Height in Cm')\n",
    "plt.xlabel('Country Name')"
   ]
  },
  {
   "cell_type": "markdown",
   "id": "5cbaa44e",
   "metadata": {},
   "source": [
    "Top 5 Countries with Tallest Females"
   ]
  },
  {
   "cell_type": "code",
   "execution_count": 36,
   "id": "de3ea061",
   "metadata": {},
   "outputs": [
    {
     "data": {
      "text/plain": [
       "Text(0.5, 0, 'Country Name')"
      ]
     },
     "execution_count": 36,
     "metadata": {},
     "output_type": "execute_result"
    },
    {
     "data": {
      "image/png": "[encoded data removed]",
      "text/plain": [
       "<Figure size 720x360 with 1 Axes>"
      ]
     },
     "metadata": {
      "needs_background": "light"
     },
     "output_type": "display_data"
    }
   ],
   "source": [
    "#Top 5 Countries with Tallest Females\n",
    "plt.figure(figsize=(10,5))\n",
    "\n",
    "top5_female = df.sort_values('Female Height in Cm', ascending = False).head()\n",
    "plt.bar(x = 'Country Name', height='Female Height in Cm', data = top5_female, color = \"red\")\n",
    "\n",
    "plt.ylim(ymin=151,ymax=171)\n",
    "plt.ylabel('Female Height in Cm')\n",
    "plt.xlabel('Country Name')"
   ]
  },
  {
   "cell_type": "markdown",
   "id": "76daaec0",
   "metadata": {},
   "source": [
    "Shortest Males and Females Per Country"
   ]
  },
  {
   "cell_type": "code",
   "execution_count": 37,
   "id": "235de6a2",
   "metadata": {},
   "outputs": [
    {
     "name": "stdout",
     "output_type": "stream",
     "text": [
      "Country with Shortest Men (cm): Timor-Leste at 160.13\n",
      "Country with Shortest Female (cm): Guatemala at 150.91\n"
     ]
    }
   ],
   "source": [
    "#Top Country\n",
    "male_min_value = df['Male Height in Cm'].idxmin()\n",
    "male_min_country = df['Country Name'][male_min_value]\n",
    "\n",
    "female_min_value = df['Female Height in Cm'].idxmin()\n",
    "female_min_country = df['Country Name'][female_min_value]\n",
    "\n",
    "print(f\"Country with Shortest Men (cm): {male_min_country} at {df['Male Height in Cm'].min()}\")\n",
    "print(f\"Country with Shortest Female (cm): {female_min_country} at {df['Female Height in Cm'].min()}\")"
   ]
  },
  {
   "cell_type": "markdown",
   "id": "f8fc4246",
   "metadata": {},
   "source": [
    "Top 5 Countries with Shortest Males"
   ]
  },
  {
   "cell_type": "code",
   "execution_count": 38,
   "id": "6b1dd1e6",
   "metadata": {},
   "outputs": [
    {
     "data": {
      "text/plain": [
       "Text(0.5, 0, 'Country Name')"
      ]
     },
     "execution_count": 38,
     "metadata": {},
     "output_type": "execute_result"
    },
    {
     "data": {
      "image/png": "[encoded data removed]",
      "text/plain": [
       "<Figure size 720x360 with 1 Axes>"
      ]
     },
     "metadata": {
      "needs_background": "light"
     },
     "output_type": "display_data"
    }
   ],
   "source": [
    "#Top 5 Countries with Shortest Males\n",
    "plt.figure(figsize=(10,5))\n",
    "\n",
    "bottom5_male = df.sort_values('Male Height in Cm', ascending = True).head()\n",
    "plt.bar(x = 'Country Name', height='Male Height in Cm', data = bottom5_male)\n",
    "\n",
    "plt.ylim(ymin=145,ymax=165)\n",
    "plt.ylabel('Male Height in Cm')\n",
    "plt.xlabel('Country Name')"
   ]
  },
  {
   "cell_type": "markdown",
   "id": "5d3888e1",
   "metadata": {},
   "source": [
    "Top 5 Countries with Shortest Females"
   ]
  },
  {
   "cell_type": "code",
   "execution_count": 39,
   "id": "0e54fa53",
   "metadata": {},
   "outputs": [
    {
     "data": {
      "text/plain": [
       "Text(0.5, 0, 'Country Name')"
      ]
     },
     "execution_count": 39,
     "metadata": {},
     "output_type": "execute_result"
    },
    {
     "data": {
      "image/png": "[encoded data removed]",
      "text/plain": [
       "<Figure size 720x360 with 1 Axes>"
      ]
     },
     "metadata": {
      "needs_background": "light"
     },
     "output_type": "display_data"
    }
   ],
   "source": [
    "#Top 5 Countries with Shortest Females\n",
    "plt.figure(figsize=(10,5))\n",
    "\n",
    "bottom5_female = df.sort_values('Female Height in Cm', ascending = True).head()\n",
    "plt.bar(x = 'Country Name', height='Female Height in Cm', data = bottom5_female, color = \"red\")\n",
    "\n",
    "plt.ylim(ymin=144,ymax=154)\n",
    "plt.ylabel('Female Height in Cm')\n",
    "plt.xlabel('Country Name')"
   ]
  },
  {
   "cell_type": "code",
   "execution_count": null,
   "id": "f56ca49e",
   "metadata": {},
   "outputs": [],
   "source": []
  }
 ],
 "metadata": {
  "kernelspec": {
   "display_name": "Python 3 (ipykernel)",
   "language": "python",
   "name": "python3"
  },
  "language_info": {
   "codemirror_mode": {
    "name": "ipython",
    "version": 3
   },
   "file_extension": ".py",
   "mimetype": "text/x-python",
   "name": "python",
   "nbconvert_exporter": "python",
   "pygments_lexer": "ipython3",
   "version": "3.9.7"
  }
 },
 "nbformat": 4,
 "nbformat_minor": 5
}
