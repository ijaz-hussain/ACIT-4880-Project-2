{
 "cells": [
  {
   "cell_type": "markdown",
   "id": "e4d9fe2b",
   "metadata": {},
   "source": [
    "K-Nearest Neighbours"
   ]
  },
  {
   "cell_type": "code",
   "execution_count": 37,
   "id": "bfbc5217",
   "metadata": {},
   "outputs": [],
   "source": [
    "import pandas as pd\n",
    "import numpy as np"
   ]
  },
  {
   "cell_type": "code",
   "execution_count": 38,
   "id": "9d8fb7e3",
   "metadata": {},
   "outputs": [],
   "source": [
    "no_shows = pd.read_csv('no_shows_cleaned.csv')"
   ]
  },
  {
   "cell_type": "code",
   "execution_count": 39,
   "id": "b3a12a21",
   "metadata": {},
   "outputs": [
    {
     "data": {
      "text/html": [
       "<div>\n",
       "<style scoped>\n",
       "    .dataframe tbody tr th:only-of-type {\n",
       "        vertical-align: middle;\n",
       "    }\n",
       "\n",
       "    .dataframe tbody tr th {\n",
       "        vertical-align: top;\n",
       "    }\n",
       "\n",
       "    .dataframe thead th {\n",
       "        text-align: right;\n",
       "    }\n",
       "</style>\n",
       "<table border=\"1\" class=\"dataframe\">\n",
       "  <thead>\n",
       "    <tr style=\"text-align: right;\">\n",
       "      <th></th>\n",
       "      <th>gender</th>\n",
       "      <th>age</th>\n",
       "      <th>scholarship</th>\n",
       "      <th>hypertension</th>\n",
       "      <th>diabetes</th>\n",
       "      <th>alcoholism</th>\n",
       "      <th>handicap</th>\n",
       "      <th>sms_received</th>\n",
       "      <th>no_show</th>\n",
       "    </tr>\n",
       "  </thead>\n",
       "  <tbody>\n",
       "    <tr>\n",
       "      <th>0</th>\n",
       "      <td>F</td>\n",
       "      <td>62</td>\n",
       "      <td>0</td>\n",
       "      <td>1</td>\n",
       "      <td>0</td>\n",
       "      <td>0</td>\n",
       "      <td>0</td>\n",
       "      <td>0</td>\n",
       "      <td>0</td>\n",
       "    </tr>\n",
       "    <tr>\n",
       "      <th>1</th>\n",
       "      <td>M</td>\n",
       "      <td>56</td>\n",
       "      <td>0</td>\n",
       "      <td>0</td>\n",
       "      <td>0</td>\n",
       "      <td>0</td>\n",
       "      <td>0</td>\n",
       "      <td>0</td>\n",
       "      <td>0</td>\n",
       "    </tr>\n",
       "    <tr>\n",
       "      <th>2</th>\n",
       "      <td>F</td>\n",
       "      <td>62</td>\n",
       "      <td>0</td>\n",
       "      <td>0</td>\n",
       "      <td>0</td>\n",
       "      <td>0</td>\n",
       "      <td>0</td>\n",
       "      <td>0</td>\n",
       "      <td>0</td>\n",
       "    </tr>\n",
       "    <tr>\n",
       "      <th>3</th>\n",
       "      <td>F</td>\n",
       "      <td>8</td>\n",
       "      <td>0</td>\n",
       "      <td>0</td>\n",
       "      <td>0</td>\n",
       "      <td>0</td>\n",
       "      <td>0</td>\n",
       "      <td>0</td>\n",
       "      <td>0</td>\n",
       "    </tr>\n",
       "    <tr>\n",
       "      <th>4</th>\n",
       "      <td>F</td>\n",
       "      <td>56</td>\n",
       "      <td>0</td>\n",
       "      <td>1</td>\n",
       "      <td>1</td>\n",
       "      <td>0</td>\n",
       "      <td>0</td>\n",
       "      <td>0</td>\n",
       "      <td>0</td>\n",
       "    </tr>\n",
       "  </tbody>\n",
       "</table>\n",
       "</div>"
      ],
      "text/plain": [
       "  gender  age  scholarship  hypertension  diabetes  alcoholism  handicap  \\\n",
       "0      F   62            0             1         0           0         0   \n",
       "1      M   56            0             0         0           0         0   \n",
       "2      F   62            0             0         0           0         0   \n",
       "3      F    8            0             0         0           0         0   \n",
       "4      F   56            0             1         1           0         0   \n",
       "\n",
       "   sms_received  no_show  \n",
       "0             0        0  \n",
       "1             0        0  \n",
       "2             0        0  \n",
       "3             0        0  \n",
       "4             0        0  "
      ]
     },
     "execution_count": 39,
     "metadata": {},
     "output_type": "execute_result"
    }
   ],
   "source": [
    "no_shows.head()"
   ]
  },
  {
   "cell_type": "code",
   "execution_count": 40,
   "id": "79df1ff3",
   "metadata": {},
   "outputs": [],
   "source": [
    "# split dataset in two parts: feature set and target label \n",
    "feature_set = ['age', 'scholarship', 'hypertension', 'diabetes', 'alcoholism', 'handicap', 'sms_received']\n",
    "features = no_shows[feature_set]\n",
    "target = no_shows.no_show\n",
    "\n",
    "# partition data into training and testing set\n",
    "from sklearn.model_selection import train_test_split\n",
    "feature_train, feature_test, target_train, target_test = \\\n",
    "train_test_split(features, target, test_size=0.3, random_state=1)"
   ]
  },
  {
   "cell_type": "code",
   "execution_count": 41,
   "id": "3c28867c",
   "metadata": {},
   "outputs": [
    {
     "name": "stdout",
     "output_type": "stream",
     "text": [
      "Accuracy: 0.7968688727338542\n",
      "Precision: 0.43902439024390244\n",
      "Recall: 0.0026749888542131075\n",
      "F1-Score: 0.005317577548005908\n"
     ]
    }
   ],
   "source": [
    "# Import KNN model\n",
    "from sklearn.neighbors import KNeighborsClassifier\n",
    " \n",
    "# Create a KNN classifier object\n",
    "model = KNeighborsClassifier(n_neighbors=33)\n",
    " \n",
    "# Train the model using the training dataset\n",
    "model.fit(feature_train,target_train)\n",
    " \n",
    "# Predict the target variable for test dataset\n",
    "predictions = model.predict(feature_test)\n",
    " \n",
    "# Import metrics module for performance evaluation\n",
    "from sklearn.metrics import accuracy_score\n",
    "from sklearn.metrics import precision_score\n",
    "from sklearn.metrics import recall_score\n",
    "from sklearn.metrics import f1_score\n",
    " \n",
    "# Calculate model accuracy\n",
    "print(\"Accuracy:\",accuracy_score(target_test, predictions))\n",
    "# Calculate model precision\n",
    "print(\"Precision:\",precision_score(target_test, predictions))\n",
    "# Calculate model recall\n",
    "print(\"Recall:\",recall_score(target_test, predictions))\n",
    "# Calculate model f1 score\n",
    "print(\"F1-Score:\",f1_score(target_test, predictions))"
   ]
  },
  {
   "cell_type": "markdown",
   "id": "f7f9759c",
   "metadata": {},
   "source": [
    "Confusion Matrix"
   ]
  },
  {
   "cell_type": "code",
   "execution_count": 42,
   "id": "c144edd2",
   "metadata": {},
   "outputs": [
    {
     "data": {
      "text/plain": [
       "<sklearn.metrics._plot.confusion_matrix.ConfusionMatrixDisplay at 0x7ff0fbe976a0>"
      ]
     },
     "execution_count": 42,
     "metadata": {},
     "output_type": "execute_result"
    },
    {
     "data": {
      "image/png": "[encoded data removed]",
      "text/plain": [
       "<Figure size 432x288 with 2 Axes>"
      ]
     },
     "metadata": {
      "needs_background": "light"
     },
     "output_type": "display_data"
    }
   ],
   "source": [
    "# Import the confusion matrix\n",
    "from sklearn.metrics import plot_confusion_matrix\n",
    "\n",
    "# Plot Confusion matrix\n",
    "plot_confusion_matrix(model, feature_test, target_test, values_format='d')"
   ]
  },
  {
   "cell_type": "code",
   "execution_count": 43,
   "id": "b900e339",
   "metadata": {},
   "outputs": [
    {
     "data": {
      "text/plain": [
       "<sklearn.metrics._plot.roc_curve.RocCurveDisplay at 0x7ff118a81e50>"
      ]
     },
     "execution_count": 43,
     "metadata": {},
     "output_type": "execute_result"
    },
    {
     "data": {
      "image/png": "[encoded data removed]",
      "text/plain": [
       "<Figure size 432x288 with 1 Axes>"
      ]
     },
     "metadata": {
      "needs_background": "light"
     },
     "output_type": "display_data"
    }
   ],
   "source": [
    "predictions_prob = model.predict_proba(feature_test)[::,1]\n",
    "\n",
    "# import plot_roc_curve\n",
    "from sklearn.metrics import plot_roc_curve\n",
    "\n",
    "plot_roc_curve(model , feature_test, target_test)"
   ]
  },
  {
   "cell_type": "code",
   "execution_count": 44,
   "id": "e8ce59fc",
   "metadata": {},
   "outputs": [
    {
     "name": "stdout",
     "output_type": "stream",
     "text": [
      "Area Under Curve: 0.5836776426162111\n"
     ]
    }
   ],
   "source": [
    "# import ROC AUC score\n",
    "from sklearn.metrics import roc_auc_score\n",
    "\n",
    "# Compute the area under ROC curve\n",
    "auc = roc_auc_score(target_test, predictions_prob)\n",
    "\n",
    "# Print auc value\n",
    "print(\"Area Under Curve:\",auc)"
   ]
  },
  {
   "cell_type": "markdown",
   "id": "beea9438",
   "metadata": {},
   "source": [
    "Random Forest Classification"
   ]
  },
  {
   "cell_type": "code",
   "execution_count": 45,
   "id": "2c4bb61a",
   "metadata": {},
   "outputs": [],
   "source": [
    "X = no_shows.iloc[:, 1:-1].values\n",
    "y = no_shows.iloc[:, -1].values"
   ]
  },
  {
   "cell_type": "code",
   "execution_count": 46,
   "id": "5a34213b",
   "metadata": {},
   "outputs": [],
   "source": [
    "from sklearn.model_selection import train_test_split\n",
    "X_train, X_test, y_train, y_test = train_test_split(X, y, test_size = 0.25, random_state = 0)"
   ]
  },
  {
   "cell_type": "code",
   "execution_count": 47,
   "id": "a3461208",
   "metadata": {},
   "outputs": [
    {
     "name": "stdout",
     "output_type": "stream",
     "text": [
      "[[66  0  1 ...  0  0  0]\n",
      " [80  0  1 ...  0  0  0]\n",
      " [50  0  0 ...  0  0  0]\n",
      " ...\n",
      " [ 0  0  0 ...  0  0  1]\n",
      " [41  0  0 ...  0  0  0]\n",
      " [50  0  1 ...  0  0  0]]\n"
     ]
    }
   ],
   "source": [
    "print(X_train)"
   ]
  },
  {
   "cell_type": "code",
   "execution_count": 48,
   "id": "f3026470",
   "metadata": {},
   "outputs": [
    {
     "name": "stdout",
     "output_type": "stream",
     "text": [
      "[0 0 0 ... 1 0 0]\n"
     ]
    }
   ],
   "source": [
    "print(y_train)"
   ]
  },
  {
   "cell_type": "code",
   "execution_count": 49,
   "id": "a2ef369a",
   "metadata": {},
   "outputs": [
    {
     "name": "stdout",
     "output_type": "stream",
     "text": [
      "[[63  0  0 ...  0  0  1]\n",
      " [18  0  0 ...  0  0  0]\n",
      " [82  0  0 ...  0  0  0]\n",
      " ...\n",
      " [25  0  0 ...  0  0  1]\n",
      " [51  0  0 ...  0  0  0]\n",
      " [39  0  0 ...  0  0  0]]\n"
     ]
    }
   ],
   "source": [
    "print(X_test)"
   ]
  },
  {
   "cell_type": "code",
   "execution_count": 50,
   "id": "300e14e7",
   "metadata": {},
   "outputs": [
    {
     "name": "stdout",
     "output_type": "stream",
     "text": [
      "[0 0 0 ... 0 0 1]\n"
     ]
    }
   ],
   "source": [
    "print(y_test)"
   ]
  },
  {
   "cell_type": "code",
   "execution_count": 51,
   "id": "aafd0d4b",
   "metadata": {},
   "outputs": [],
   "source": [
    "from sklearn.preprocessing import StandardScaler\n",
    "sc = StandardScaler()\n",
    "X_train = sc.fit_transform(X_train)\n",
    "X_test = sc.transform(X_test)"
   ]
  },
  {
   "cell_type": "code",
   "execution_count": 52,
   "id": "dcfb1b01",
   "metadata": {},
   "outputs": [
    {
     "name": "stdout",
     "output_type": "stream",
     "text": [
      "[[ 1.25007303 -0.3289227   2.00675192 ... -0.17588936 -0.13930454\n",
      "  -0.68781482]\n",
      " [ 1.85569971 -0.3289227   2.00675192 ... -0.17588936 -0.13930454\n",
      "  -0.68781482]\n",
      " [ 0.55792825 -0.3289227  -0.4983177  ... -0.17588936 -0.13930454\n",
      "  -0.68781482]\n",
      " ...\n",
      " [-1.60502418 -0.3289227  -0.4983177  ... -0.17588936 -0.13930454\n",
      "   1.45387969]\n",
      " [ 0.16859681 -0.3289227  -0.4983177  ... -0.17588936 -0.13930454\n",
      "  -0.68781482]\n",
      " [ 0.55792825 -0.3289227   2.00675192 ... -0.17588936 -0.13930454\n",
      "  -0.68781482]]\n"
     ]
    }
   ],
   "source": [
    "print(X_train)"
   ]
  },
  {
   "cell_type": "code",
   "execution_count": 53,
   "id": "4174da83",
   "metadata": {},
   "outputs": [
    {
     "name": "stdout",
     "output_type": "stream",
     "text": [
      "[[ 1.12029588 -0.3289227  -0.4983177  ... -0.17588936 -0.13930454\n",
      "   1.45387969]\n",
      " [-0.82636131 -0.3289227  -0.4983177  ... -0.17588936 -0.13930454\n",
      "  -0.68781482]\n",
      " [ 1.94221781 -0.3289227  -0.4983177  ... -0.17588936 -0.13930454\n",
      "  -0.68781482]\n",
      " ...\n",
      " [-0.52354797 -0.3289227  -0.4983177  ... -0.17588936 -0.13930454\n",
      "   1.45387969]\n",
      " [ 0.6011873  -0.3289227  -0.4983177  ... -0.17588936 -0.13930454\n",
      "  -0.68781482]\n",
      " [ 0.08207872 -0.3289227  -0.4983177  ... -0.17588936 -0.13930454\n",
      "  -0.68781482]]\n"
     ]
    }
   ],
   "source": [
    "print(X_test)"
   ]
  },
  {
   "cell_type": "code",
   "execution_count": 54,
   "id": "d749e05c",
   "metadata": {},
   "outputs": [
    {
     "data": {
      "text/plain": [
       "RandomForestClassifier(criterion='entropy', n_estimators=10, random_state=0)"
      ]
     },
     "execution_count": 54,
     "metadata": {},
     "output_type": "execute_result"
    }
   ],
   "source": [
    "from sklearn.ensemble import RandomForestClassifier\n",
    "classifier = RandomForestClassifier(n_estimators = 10, criterion = 'entropy', random_state = 0)\n",
    "classifier.fit(X_train, y_train)"
   ]
  },
  {
   "cell_type": "code",
   "execution_count": 55,
   "id": "75df05a8",
   "metadata": {},
   "outputs": [
    {
     "name": "stdout",
     "output_type": "stream",
     "text": [
      "[0]\n"
     ]
    }
   ],
   "source": [
    "print(classifier.predict(sc.transform([[30,87000,30,30,30,30,30]])))"
   ]
  },
  {
   "cell_type": "code",
   "execution_count": 56,
   "id": "142f8c5a",
   "metadata": {},
   "outputs": [
    {
     "name": "stdout",
     "output_type": "stream",
     "text": [
      "[[0 0]\n",
      " [0 0]\n",
      " [0 0]\n",
      " ...\n",
      " [0 0]\n",
      " [0 0]\n",
      " [0 1]]\n"
     ]
    }
   ],
   "source": [
    "y_pred = classifier.predict(X_test)\n",
    "print(np.concatenate((y_pred.reshape(len(y_pred),1), y_test.reshape(len(y_test),1)),1))"
   ]
  },
  {
   "cell_type": "code",
   "execution_count": 57,
   "id": "af97fcdf",
   "metadata": {},
   "outputs": [
    {
     "name": "stdout",
     "output_type": "stream",
     "text": [
      "[[21846   160]\n",
      " [ 5553    67]]\n"
     ]
    },
    {
     "data": {
      "text/plain": [
       "0.7932020560341707"
      ]
     },
     "execution_count": 57,
     "metadata": {},
     "output_type": "execute_result"
    }
   ],
   "source": [
    "from sklearn.metrics import confusion_matrix, accuracy_score\n",
    "cm = confusion_matrix(y_test, y_pred)\n",
    "print(cm)\n",
    "accuracy_score(y_test, y_pred)"
   ]
  },
  {
   "cell_type": "code",
   "execution_count": null,
   "id": "9a231acd",
   "metadata": {},
   "outputs": [],
   "source": []
  }
 ],
 "metadata": {
  "kernelspec": {
   "display_name": "Python 3 (ipykernel)",
   "language": "python",
   "name": "python3"
  },
  "language_info": {
   "codemirror_mode": {
    "name": "ipython",
    "version": 3
   },
   "file_extension": ".py",
   "mimetype": "text/x-python",
   "name": "python",
   "nbconvert_exporter": "python",
   "pygments_lexer": "ipython3",
   "version": "3.9.7"
  }
 },
 "nbformat": 4,
 "nbformat_minor": 5
}
