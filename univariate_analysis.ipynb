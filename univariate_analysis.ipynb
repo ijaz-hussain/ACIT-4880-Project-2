{
 "cells": [
  {
   "cell_type": "markdown",
   "id": "c0bccbd6",
   "metadata": {},
   "source": [
    "Find the 95% confidence t-interval for the mean number of Average height of both male and female in Cm"
   ]
  },
  {
   "cell_type": "code",
   "execution_count": 5,
   "id": "a7cb6f54",
   "metadata": {},
   "outputs": [],
   "source": [
    "import numpy as np\n",
    "import pandas as pd\n",
    "import matplotlib.pyplot as plt\n",
    "from scipy import stats\n",
    "from math import *"
   ]
  },
  {
   "cell_type": "code",
   "execution_count": 6,
   "id": "3765a9eb",
   "metadata": {},
   "outputs": [],
   "source": [
    "df = pd.read_csv('height_cleaned.csv')"
   ]
  },
  {
   "cell_type": "code",
   "execution_count": 7,
   "id": "fb05183d",
   "metadata": {},
   "outputs": [
    {
     "name": "stdout",
     "output_type": "stream",
     "text": [
      "167.01587939698487 4.43275823400499 199\n"
     ]
    }
   ],
   "source": [
    "average_height = df['Average height in Cm']\n",
    "average_height_mean = average_height.mean()\n",
    "average_height_std = average_height.std()\n",
    "average_height_count = len(average_height)\n",
    "\n",
    "print(average_height_mean, average_height_std, average_height_count)"
   ]
  },
  {
   "cell_type": "code",
   "execution_count": 9,
   "id": "c6fcc04c",
   "metadata": {},
   "outputs": [
    {
     "name": "stdout",
     "output_type": "stream",
     "text": [
      "166.2789071049257 167.75285168904404\n"
     ]
    }
   ],
   "source": [
    "t_value = stats.t.ppf(0.99, 198)\n",
    "conf_interval_from = average_height_mean - t_value * (average_height_std / sqrt(average_height_count))\n",
    "conf_interval_to = average_height_mean + t_value * (average_height_std / sqrt(average_height_count))\n",
    "print(conf_interval_from, conf_interval_to)"
   ]
  },
  {
   "cell_type": "code",
   "execution_count": null,
   "id": "691cd23f",
   "metadata": {},
   "outputs": [],
   "source": []
  }
 ],
 "metadata": {
  "kernelspec": {
   "display_name": "Python 3 (ipykernel)",
   "language": "python",
   "name": "python3"
  },
  "language_info": {
   "codemirror_mode": {
    "name": "ipython",
    "version": 3
   },
   "file_extension": ".py",
   "mimetype": "text/x-python",
   "name": "python",
   "nbconvert_exporter": "python",
   "pygments_lexer": "ipython3",
   "version": "3.9.7"
  }
 },
 "nbformat": 4,
 "nbformat_minor": 5
}
