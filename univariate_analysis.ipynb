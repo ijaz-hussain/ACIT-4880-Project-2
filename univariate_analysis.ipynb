{
 "cells": [
  {
   "cell_type": "markdown",
   "id": "c0bccbd6",
   "metadata": {},
   "source": [
    "Univariate Analysis"
   ]
  },
  {
   "cell_type": "code",
   "execution_count": 1,
   "id": "a7cb6f54",
   "metadata": {},
   "outputs": [],
   "source": [
    "import numpy as np\n",
    "import pandas as pd\n",
    "import matplotlib.pyplot as plt\n",
    "from scipy import stats\n",
    "from math import *"
   ]
  },
  {
   "cell_type": "code",
   "execution_count": 9,
   "id": "3765a9eb",
   "metadata": {},
   "outputs": [],
   "source": [
    "df = pd.read_csv('no_shows_cleaned.csv')"
   ]
  },
  {
   "cell_type": "markdown",
   "id": "ff00b971",
   "metadata": {},
   "source": [
    "Find the 95% confidence t-interval for the mean age in the no_shows_cleaned.csv dataset"
   ]
  },
  {
   "cell_type": "code",
   "execution_count": 3,
   "id": "fb05183d",
   "metadata": {},
   "outputs": [
    {
     "name": "stdout",
     "output_type": "stream",
     "text": [
      "37.09459557293081 23.109589817485727 110502\n"
     ]
    }
   ],
   "source": [
    "age = df['age']\n",
    "age_mean = age.mean()\n",
    "age_std = age.std()\n",
    "age_count = len(age)\n",
    "\n",
    "print(age_mean, age_std, age_count)"
   ]
  },
  {
   "cell_type": "code",
   "execution_count": null,
   "id": "179a3122",
   "metadata": {},
   "outputs": [],
   "source": []
  },
  {
   "cell_type": "code",
   "execution_count": 4,
   "id": "c6fcc04c",
   "metadata": {},
   "outputs": [
    {
     "name": "stdout",
     "output_type": "stream",
     "text": [
      "36.932866489205296 37.25632465665632\n"
     ]
    }
   ],
   "source": [
    "t_value = stats.t.ppf(0.99, 110501)\n",
    "conf_interval_from = age_mean - t_value * (age_std / sqrt(age_count))\n",
    "conf_interval_to = age_mean + t_value * (age_std / sqrt(age_count))\n",
    "print(conf_interval_from, conf_interval_to)"
   ]
  },
  {
   "cell_type": "markdown",
   "id": "1a9f9cba",
   "metadata": {},
   "source": [
    "Find the 95% confidence t-interval for the population mean age for those patients who have alcoholism in the no_shows_cleaned.csv dataset"
   ]
  },
  {
   "cell_type": "code",
   "execution_count": 5,
   "id": "ba3dc3cf",
   "metadata": {},
   "outputs": [
    {
     "name": "stdout",
     "output_type": "stream",
     "text": [
      "49.861810551558754 12.348479498558413 3336\n"
     ]
    }
   ],
   "source": [
    "alcoholism = df[(df['alcoholism'] == 1)]\n",
    "sub_df = alcoholism['age']\n",
    "sub_df_mean = sub_df.mean()\n",
    "sub_df_std = sub_df.std()\n",
    "sub_df_count = len(sub_df)\n",
    "\n",
    "print(sub_df_mean, sub_df_std, sub_df_count)"
   ]
  },
  {
   "cell_type": "code",
   "execution_count": 6,
   "id": "a7239695",
   "metadata": {},
   "outputs": [
    {
     "name": "stdout",
     "output_type": "stream",
     "text": [
      "49.442625101061495 50.280996002056014\n"
     ]
    }
   ],
   "source": [
    "t_value = stats.t.ppf(0.975, 3335)\n",
    "conf_interval_from = sub_df_mean - t_value * (sub_df_std / sqrt(sub_df_count))\n",
    "conf_interval_to = sub_df_mean + t_value * (sub_df_std / sqrt(sub_df_count))\n",
    "print(conf_interval_from, conf_interval_to)"
   ]
  },
  {
   "cell_type": "markdown",
   "id": "161fcb5d",
   "metadata": {},
   "source": [
    "On average, people aged 35 tends to no show more (statement)\n",
    "We want to test and see if it is actually lower than 35"
   ]
  },
  {
   "cell_type": "code",
   "execution_count": 86,
   "id": "78ad0136",
   "metadata": {},
   "outputs": [
    {
     "name": "stdout",
     "output_type": "stream",
     "text": [
      "no show mean:  34.329224010400324\n",
      "no show sd:  21.965585363734917\n",
      "qnorm -1.6448536269514729\n",
      "hypothesis rejected, people younger than 35 tends to no show for their appointment more\n",
      "-10.151256382918904 < -1.6448536269514729\n"
     ]
    }
   ],
   "source": [
    "from scipy.stats import norm\n",
    "import numpy as np\n",
    "\n",
    "no_show= df[(df['no_show'] == 1)]\n",
    "no_show_age_mean = no_show['age'].mean()\n",
    "test_mean = 35\n",
    "n = 110502\n",
    "\n",
    "print('no show mean: ', no_show_age_mean)\n",
    "\n",
    "no_show_std = np.std(no_show['age'])\n",
    "\n",
    "print('no show sd: ', no_show_std)\n",
    "\n",
    "qnorm = norm.ppf(0.05)\n",
    "print('qnorm', qnorm)\n",
    "\n",
    "lowTtest = (no_show_age_mean - test_mean)/(no_show_std/sqrt(n))\n",
    "\n",
    "if lowTtest > qnorm:\n",
    "    print('hypothesis accepted, people aged %d tends no show for their appointment more' % ( test_mean))\n",
    "    print((no_show_age_mean - test_mean)/(no_show_std/sqrt(n)),'>', qnorm)\n",
    "else:\n",
    "    print('hypothesis rejected, people younger than %d tends to no show for their appointment more' % (test_mean))\n",
    "    print((no_show_age_mean - test_mean)/(no_show_std/sqrt(n)),'<', qnorm)"
   ]
  }
 ],
 "metadata": {
  "kernelspec": {
   "display_name": "Python 3 (ipykernel)",
   "language": "python",
   "name": "python3"
  },
  "language_info": {
   "codemirror_mode": {
    "name": "ipython",
    "version": 3
   },
   "file_extension": ".py",
   "mimetype": "text/x-python",
   "name": "python",
   "nbconvert_exporter": "python",
   "pygments_lexer": "ipython3",
   "version": "3.10.1"
  }
 },
 "nbformat": 4,
 "nbformat_minor": 5
}