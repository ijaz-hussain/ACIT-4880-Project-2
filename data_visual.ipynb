{
 "cells": [
  {
   "cell_type": "code",
   "execution_count": 3,
   "id": "4529d146",
   "metadata": {},
   "outputs": [],
   "source": [
    "import numpy as np\n",
    "import pandas as pd\n",
    "import matplotlib.pyplot as plt\n",
    "from scipy import stats\n",
    "from math import *\n",
    "import plotly.graph_objs as go\n",
    "import plotly.express as px\n",
    "import seaborn as sns"
   ]
  },
  {
   "cell_type": "code",
   "execution_count": 4,
   "id": "f094a1eb",
   "metadata": {},
   "outputs": [],
   "source": [
    "df = pd.read_csv('height_cleaned.csv')"
   ]
  },
  {
   "cell_type": "code",
   "execution_count": 5,
   "id": "50458be3",
   "metadata": {},
   "outputs": [
    {
     "data": {
      "text/plain": "             Country Name  Average height in Cm  Male Height in Cm  \\\n0             Netherlands                177.07             183.78   \n1              Montenegro                176.63             183.30   \n2                 Estonia                175.72             182.79   \n3                 Denmark                175.68             181.89   \n4                 Iceland                175.50             182.10   \n5                  Latvia                174.99             181.17   \n6  Bosnia and Herzegovina                174.97             182.47   \n7          Czech Republic                174.58             181.19   \n8                  Serbia                174.52             180.74   \n9               Lithuania                174.18             180.72   \n\n   Female Height in Cm  \n0               170.36  \n1               169.96  \n2               168.66  \n3               169.47  \n4               168.91  \n5               168.81  \n6               167.47  \n7               167.96  \n8               168.29  \n9               167.63  ",
      "text/html": "<div>\n<style scoped>\n    .dataframe tbody tr th:only-of-type {\n        vertical-align: middle;\n    }\n\n    .dataframe tbody tr th {\n        vertical-align: top;\n    }\n\n    .dataframe thead th {\n        text-align: right;\n    }\n</style>\n<table border=\"1\" class=\"dataframe\">\n  <thead>\n    <tr style=\"text-align: right;\">\n      <th></th>\n      <th>Country Name</th>\n      <th>Average height in Cm</th>\n      <th>Male Height in Cm</th>\n      <th>Female Height in Cm</th>\n    </tr>\n  </thead>\n  <tbody>\n    <tr>\n      <th>0</th>\n      <td>Netherlands</td>\n      <td>177.07</td>\n      <td>183.78</td>\n      <td>170.36</td>\n    </tr>\n    <tr>\n      <th>1</th>\n      <td>Montenegro</td>\n      <td>176.63</td>\n      <td>183.30</td>\n      <td>169.96</td>\n    </tr>\n    <tr>\n      <th>2</th>\n      <td>Estonia</td>\n      <td>175.72</td>\n      <td>182.79</td>\n      <td>168.66</td>\n    </tr>\n    <tr>\n      <th>3</th>\n      <td>Denmark</td>\n      <td>175.68</td>\n      <td>181.89</td>\n      <td>169.47</td>\n    </tr>\n    <tr>\n      <th>4</th>\n      <td>Iceland</td>\n      <td>175.50</td>\n      <td>182.10</td>\n      <td>168.91</td>\n    </tr>\n    <tr>\n      <th>5</th>\n      <td>Latvia</td>\n      <td>174.99</td>\n      <td>181.17</td>\n      <td>168.81</td>\n    </tr>\n    <tr>\n      <th>6</th>\n      <td>Bosnia and Herzegovina</td>\n      <td>174.97</td>\n      <td>182.47</td>\n      <td>167.47</td>\n    </tr>\n    <tr>\n      <th>7</th>\n      <td>Czech Republic</td>\n      <td>174.58</td>\n      <td>181.19</td>\n      <td>167.96</td>\n    </tr>\n    <tr>\n      <th>8</th>\n      <td>Serbia</td>\n      <td>174.52</td>\n      <td>180.74</td>\n      <td>168.29</td>\n    </tr>\n    <tr>\n      <th>9</th>\n      <td>Lithuania</td>\n      <td>174.18</td>\n      <td>180.72</td>\n      <td>167.63</td>\n    </tr>\n  </tbody>\n</table>\n</div>"
     },
     "execution_count": 5,
     "metadata": {},
     "output_type": "execute_result"
    }
   ],
   "source": [
    "df.head(10)"
   ]
  },
  {
   "cell_type": "code",
   "execution_count": 6,
   "id": "05945793",
   "metadata": {},
   "outputs": [
    {
     "data": {
      "text/plain": "       Average height in Cm  Male Height in Cm  Female Height in Cm\ncount            199.000000         199.000000           199.000000\nmean             167.015879         173.089045           160.942915\nstd                4.432758           4.949832             4.076377\nmin              156.420000         160.130000           150.910000\n25%              163.895000         169.490000           158.240000\n50%              167.000000         173.530000           160.620000\n75%              170.350000         176.510000           163.870000\nmax              177.070000         183.780000           170.360000",
      "text/html": "<div>\n<style scoped>\n    .dataframe tbody tr th:only-of-type {\n        vertical-align: middle;\n    }\n\n    .dataframe tbody tr th {\n        vertical-align: top;\n    }\n\n    .dataframe thead th {\n        text-align: right;\n    }\n</style>\n<table border=\"1\" class=\"dataframe\">\n  <thead>\n    <tr style=\"text-align: right;\">\n      <th></th>\n      <th>Average height in Cm</th>\n      <th>Male Height in Cm</th>\n      <th>Female Height in Cm</th>\n    </tr>\n  </thead>\n  <tbody>\n    <tr>\n      <th>count</th>\n      <td>199.000000</td>\n      <td>199.000000</td>\n      <td>199.000000</td>\n    </tr>\n    <tr>\n      <th>mean</th>\n      <td>167.015879</td>\n      <td>173.089045</td>\n      <td>160.942915</td>\n    </tr>\n    <tr>\n      <th>std</th>\n      <td>4.432758</td>\n      <td>4.949832</td>\n      <td>4.076377</td>\n    </tr>\n    <tr>\n      <th>min</th>\n      <td>156.420000</td>\n      <td>160.130000</td>\n      <td>150.910000</td>\n    </tr>\n    <tr>\n      <th>25%</th>\n      <td>163.895000</td>\n      <td>169.490000</td>\n      <td>158.240000</td>\n    </tr>\n    <tr>\n      <th>50%</th>\n      <td>167.000000</td>\n      <td>173.530000</td>\n      <td>160.620000</td>\n    </tr>\n    <tr>\n      <th>75%</th>\n      <td>170.350000</td>\n      <td>176.510000</td>\n      <td>163.870000</td>\n    </tr>\n    <tr>\n      <th>max</th>\n      <td>177.070000</td>\n      <td>183.780000</td>\n      <td>170.360000</td>\n    </tr>\n  </tbody>\n</table>\n</div>"
     },
     "execution_count": 6,
     "metadata": {},
     "output_type": "execute_result"
    }
   ],
   "source": [
    "df.describe()"
   ]
  },
  {
   "cell_type": "markdown",
   "id": "567fd9f6",
   "metadata": {},
   "source": [
    "Average Height of Males and Females Globally"
   ]
  },
  {
   "cell_type": "code",
   "execution_count": 7,
   "id": "c2596547",
   "metadata": {},
   "outputs": [
    {
     "name": "stdout",
     "output_type": "stream",
     "text": [
      "Male Average Height (cm): 173.08904522613065\n",
      "Female Average Height (cm): 160.9429145728643\n",
      "\n"
     ]
    }
   ],
   "source": [
    "male_average = df['Male Height in Cm'].mean()\n",
    "female_average = df['Female Height in Cm'].mean()\n",
    "\n",
    "print(f\"Male Average Height (cm): {male_average}\")\n",
    "print(f\"Female Average Height (cm): {female_average}\\n\")"
   ]
  },
  {
   "cell_type": "markdown",
   "id": "0917e0b8",
   "metadata": {},
   "source": [
    "Tallest Males and Females Per Country"
   ]
  },
  {
   "cell_type": "code",
   "execution_count": 8,
   "id": "c174bfd2",
   "metadata": {},
   "outputs": [
    {
     "name": "stdout",
     "output_type": "stream",
     "text": [
      "Country with Tallest Men (cm): Netherlands at 183.78\n",
      "Country with Tallest Female (cm): Netherlands at 170.36\n"
     ]
    }
   ],
   "source": [
    "#Top Country \n",
    "male_max_value = df['Male Height in Cm'].idxmax()\n",
    "male_max_country = df['Country Name'][male_max_value]\n",
    "\n",
    "female_max_value = df['Female Height in Cm'].idxmax()\n",
    "female_max_country = df['Country Name'][female_max_value]\n",
    "\n",
    "print(f\"Country with Tallest Men (cm): {male_max_country} at {df['Male Height in Cm'].max()}\")\n",
    "print(f\"Country with Tallest Female (cm): {female_max_country} at {df['Female Height in Cm'].max()}\")"
   ]
  },
  {
   "cell_type": "markdown",
   "id": "a8ba8b63",
   "metadata": {},
   "source": [
    "Top 5 Countries with Tallest Males"
   ]
  },
  {
   "cell_type": "code",
   "execution_count": 9,
   "id": "5a7f4c49",
   "metadata": {},
   "outputs": [
    {
     "data": {
      "text/plain": "Text(0.5, 0, 'Country Name')"
     },
     "execution_count": 9,
     "metadata": {},
     "output_type": "execute_result"
    },
    {
     "data": {
      "text/plain": "<Figure size 720x360 with 1 Axes>",
      "image/png": "[encoded data removed]"
     },
     "metadata": {
      "needs_background": "light"
     },
     "output_type": "display_data"
    }
   ],
   "source": [
    "#Top 5 Countries with Tallest Males\n",
    "plt.figure(figsize=(10,5))\n",
    "\n",
    "top5_male = df.sort_values('Male Height in Cm', ascending = False).head()\n",
    "plt.bar(x = 'Country Name', height='Male Height in Cm', data = top5_male)\n",
    "\n",
    "plt.ylim(ymin=165,ymax=185)\n",
    "plt.ylabel('Male Height in Cm')\n",
    "plt.xlabel('Country Name')"
   ]
  },
  {
   "cell_type": "markdown",
   "id": "2e7e7fae",
   "metadata": {},
   "source": [
    "Top 5 Countries with Tallest Females"
   ]
  },
  {
   "cell_type": "code",
   "execution_count": 10,
   "id": "188b2160",
   "metadata": {},
   "outputs": [
    {
     "data": {
      "text/plain": "Text(0.5, 0, 'Country Name')"
     },
     "execution_count": 10,
     "metadata": {},
     "output_type": "execute_result"
    },
    {
     "data": {
      "text/plain": "<Figure size 720x360 with 1 Axes>",
      "image/png": "[encoded data removed]"
     },
     "metadata": {
      "needs_background": "light"
     },
     "output_type": "display_data"
    }
   ],
   "source": [
    "#Top 5 Countries with Tallest Females\n",
    "plt.figure(figsize=(10,5))\n",
    "\n",
    "top5_female = df.sort_values('Female Height in Cm', ascending = False).head()\n",
    "plt.bar(x = 'Country Name', height='Female Height in Cm', data = top5_female, color = \"red\")\n",
    "\n",
    "plt.ylim(ymin=151,ymax=171)\n",
    "plt.ylabel('Female Height in Cm')\n",
    "plt.xlabel('Country Name')"
   ]
  },
  {
   "cell_type": "markdown",
   "id": "e9951278",
   "metadata": {},
   "source": [
    "Shortest Males and Females Per Country"
   ]
  },
  {
   "cell_type": "code",
   "execution_count": 11,
   "id": "202eb4a2",
   "metadata": {},
   "outputs": [
    {
     "name": "stdout",
     "output_type": "stream",
     "text": [
      "Country with Shortest Men (cm): Timor-Leste at 160.13\n",
      "Country with Shortest Female (cm): Guatemala at 150.91\n"
     ]
    }
   ],
   "source": [
    "#Top Country\n",
    "male_min_value = df['Male Height in Cm'].idxmin()\n",
    "male_min_country = df['Country Name'][male_min_value]\n",
    "\n",
    "female_min_value = df['Female Height in Cm'].idxmin()\n",
    "female_min_country = df['Country Name'][female_min_value]\n",
    "\n",
    "print(f\"Country with Shortest Men (cm): {male_min_country} at {df['Male Height in Cm'].min()}\")\n",
    "print(f\"Country with Shortest Female (cm): {female_min_country} at {df['Female Height in Cm'].min()}\")"
   ]
  },
  {
   "cell_type": "markdown",
   "id": "e77dd6cf",
   "metadata": {},
   "source": [
    "Top 5 Countries with Shortest Males"
   ]
  },
  {
   "cell_type": "code",
   "execution_count": 49,
   "id": "01dd409b",
   "metadata": {},
   "outputs": [
    {
     "data": {
      "text/plain": [
       "Text(0.5, 0, 'Country Name')"
      ]
     },
     "execution_count": 49,
     "metadata": {},
     "output_type": "execute_result"
    },
    {
     "data": {
      "image/png": "[encoded data removed]",
      "text/plain": [
       "<Figure size 720x360 with 1 Axes>"
      ]
     },
     "metadata": {
      "needs_background": "light"
     },
     "output_type": "display_data"
    }
   ],
   "source": [
    "#Top 5 Countries with Shortest Males\n",
    "plt.figure(figsize=(10,5))\n",
    "\n",
    "bottom5_male = df.sort_values('Male Height in Cm', ascending = True).head()\n",
    "plt.bar(x = 'Country Name', height='Male Height in Cm', data = bottom5_male)\n",
    "\n",
    "plt.ylim(ymin=145,ymax=165)\n",
    "plt.ylabel('Male Height in Cm')\n",
    "plt.xlabel('Country Name')"
   ]
  },
  {
   "cell_type": "markdown",
   "id": "473447b5",
   "metadata": {},
   "source": [
    "Top 5 Countries with Shortest Females"
   ]
  },
  {
   "cell_type": "code",
   "execution_count": 12,
   "id": "6bb95a09",
   "metadata": {},
   "outputs": [
    {
     "data": {
      "text/plain": "Text(0.5, 0, 'Country Name')"
     },
     "execution_count": 12,
     "metadata": {},
     "output_type": "execute_result"
    },
    {
     "data": {
      "text/plain": "<Figure size 720x360 with 1 Axes>",
      "image/png": "[encoded data removed]"
     },
     "metadata": {
      "needs_background": "light"
     },
     "output_type": "display_data"
    }
   ],
   "source": [
    "#Top 5 Countries with Shortest Females\n",
    "plt.figure(figsize=(10,5))\n",
    "\n",
    "bottom5_female = df.sort_values('Female Height in Cm', ascending = True).head()\n",
    "plt.bar(x = 'Country Name', height='Female Height in Cm', data = bottom5_female, color = \"red\")\n",
    "\n",
    "plt.ylim(ymin=144,ymax=154)\n",
    "plt.ylabel('Female Height in Cm')\n",
    "plt.xlabel('Country Name')"
   ]
  },
  {
   "cell_type": "code",
   "execution_count": 15,
   "id": "7b5a5cd7",
   "metadata": {},
   "outputs": [
    {
     "data": {
      "text/plain": "<Figure size 432x288 with 1 Axes>",
      "image/png": "[encoded data removed]"
     },
     "metadata": {
      "needs_background": "light"
     },
     "output_type": "display_data"
    }
   ],
   "source": [
    "sns.histplot(df['Male Height in Cm'], label='Male', color='orange')\n",
    "sns.histplot(df['Female Height in Cm'], label='Female', color='blue')\n",
    "plt.xlabel('Height')\n",
    "plt.title('Female and Male height');\n",
    "plt.legend();"
   ]
  },
  {
   "cell_type": "code",
   "execution_count": null,
   "outputs": [],
   "source": [],
   "metadata": {
    "collapsed": false,
    "pycharm": {
     "name": "#%%\n"
    }
   }
  }
 ],
 "metadata": {
  "kernelspec": {
   "display_name": "Python 3 (ipykernel)",
   "language": "python",
   "name": "python3"
  },
  "language_info": {
   "codemirror_mode": {
    "name": "ipython",
    "version": 3
   },
   "file_extension": ".py",
   "mimetype": "text/x-python",
   "name": "python",
   "nbconvert_exporter": "python",
   "pygments_lexer": "ipython3",
   "version": "3.9.7"
  }
 },
 "nbformat": 4,
 "nbformat_minor": 5
}